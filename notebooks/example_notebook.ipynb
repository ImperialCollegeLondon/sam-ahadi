{
 "cells": [
  {
   "cell_type": "markdown",
   "metadata": {},
   "source": [
    "# This is an example Jupter notebook \n",
    "\n",
    "Use markdown sections to help explain your code. \n",
    "\n",
    "Top tips\n",
    "-"
   ]
  },
  {
   "cell_type": "markdown",
   "metadata": {},
   "source": [
    "- Keep your imports at the top of the notebook. \n",
    "- Once you start reusing the code in your notebook, refactor & outsource code into modules. Bear this in mind at all times!\n",
    "- Keep your notebooks short\n"
   ]
  },
  {
   "cell_type": "markdown",
   "metadata": {},
   "source": [
    "# Using this notebook\n",
    "\n",
    "Select .venv in the kernel box on the top right hand side of this notebook. This is the same environment that poetry is dealing with "
   ]
  },
  {
   "cell_type": "markdown",
   "metadata": {},
   "source": [
    "### Imports\n",
    "\n",
    "I am using calc_mag which is imported from the src/. Will add any useful self-written functions there, and poetry adds this folder in interactice mode so you dont have to reinstall each time"
   ]
  },
  {
   "cell_type": "code",
   "execution_count": null,
   "metadata": {},
   "outputs": [],
   "source": [
    "import numpy as np\n",
    "from src.helpers.calc_mag import calc_mag\n",
    "import matplotlib.pyplot as plt\n",
    "import ipympl\n",
    "import ipytest\n",
    "ipytest.autoconfig()\n",
    "#this magic command below is needed to make the plot interactive!\n",
    "%matplotlib ipympl"
   ]
  },
  {
   "cell_type": "markdown",
   "metadata": {},
   "source": [
    "## Example Function \n",
    "I would recommend moving this out of the notebook, but just an example for now"
   ]
  },
  {
   "cell_type": "code",
   "execution_count": null,
   "metadata": {},
   "outputs": [],
   "source": [
    "def plot_mag(r, t, n, mag, time,title):\n",
    "    fig, axs = plt.subplots(4,sharex=True,figsize=(10,8))\n",
    "    fig.suptitle('Magnetic Field Data')\n",
    "    fig.tight_layout()\n",
    "    axs[0].plot(time, r)\n",
    "    axs[0].set_title('r')\n",
    "    axs[1].plot(time, t)\n",
    "    axs[1].set_title('t')\n",
    "    axs[2].plot(time, n)\n",
    "    axs[2].set_title('n')\n",
    "    axs[3].plot(time, mag)\n",
    "    axs[3].set_title('Magnitude')\n",
    "    plt.xlabel('Time (s)')\n",
    "    fig.text(0, 0.5, 'Magnetic field (nT)', va='center', rotation='vertical')\n",
    "    plt.show()"
   ]
  },
  {
   "cell_type": "markdown",
   "metadata": {},
   "source": [
    "### Plotting some data with interactive plot\n",
    "\n",
    "You can use this preamble to add any references, context, equations etc. Good for experimenting or data analysis or as an interactive report. Play around with the graph!"
   ]
  },
  {
   "cell_type": "code",
   "execution_count": null,
   "metadata": {},
   "outputs": [],
   "source": [
    "#Create r,t,n random data\n",
    "r = np.random.uniform(low=-10, high=20, size=(1000,))\n",
    "t = np.random.uniform(low=-20, high=30, size=(1000,))\n",
    "n = np.random.uniform(low=-30, high=30, size=(1000,))\n",
    "\n",
    "#add rtn to numpy array\n",
    "rtn = np.array([r, t, n])\n",
    "mag = calc_mag(rtn)\n",
    "\n",
    "#create fake time data\n",
    "time = np.linspace(0, 1, 1000)\n",
    "\n",
    "plot_mag(r, t, n, mag, time,\"Magnetic field data interactive plot Example\")"
   ]
  },
  {
   "cell_type": "markdown",
   "metadata": {},
   "source": [
    "## Mixing code\n",
    "\n",
    "You can also write other languages in a jupyter notebook! This makes it nice and easy to colloborate quickly if two people are more used to different languages. This includes matlab etc. I should add an example here but not quite sure how to do the dependencies in this devcontainer so i will just do a bash example. For this to work you need to prepend your bash commands with an exclamation mark."
   ]
  },
  {
   "cell_type": "code",
   "execution_count": null,
   "metadata": {
    "vscode": {
     "languageId": "shellscript"
    }
   },
   "outputs": [],
   "source": [
    "#!/bin/bash\n",
    "!echo \"Hello, World!\""
   ]
  },
  {
   "cell_type": "markdown",
   "metadata": {},
   "source": [
    "# Testing\n",
    "\n",
    "You can also test jupyter notebooks too! Below is an example of using ipytest integrated within a notebook. Not sure how to integrate this with CI but we will get there at some point :)"
   ]
  },
  {
   "cell_type": "code",
   "execution_count": null,
   "metadata": {},
   "outputs": [],
   "source": [
    "def multiply(a, b):\n",
    "    return a * b\n"
   ]
  },
  {
   "cell_type": "code",
   "execution_count": null,
   "metadata": {},
   "outputs": [],
   "source": [
    "%%ipytest -qq\n",
    "def test_multiply():\n",
    "    assert multiply(2, 3) == 6\n",
    "    assert multiply(2, 0) == 0\n",
    "    assert multiply(0, 2) == 0\n",
    "    assert multiply(0, 0) == 0\n",
    "    assert multiply(100, 1) == 100"
   ]
  }
 ],
 "metadata": {
  "kernelspec": {
   "display_name": "Python 3",
   "language": "python",
   "name": "python3"
  },
  "language_info": {
   "codemirror_mode": {
    "name": "ipython",
    "version": 3
   },
   "file_extension": ".py",
   "mimetype": "text/x-python",
   "name": "python",
   "nbconvert_exporter": "python",
   "pygments_lexer": "ipython3",
   "version": "3.11.9"
  }
 },
 "nbformat": 4,
 "nbformat_minor": 2
}
